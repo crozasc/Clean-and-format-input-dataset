{
 "cells": [
  {
   "cell_type": "code",
   "execution_count": 4,
   "metadata": {},
   "outputs": [
    {
     "name": "stdout",
     "output_type": "stream",
     "text": [
      "CSV descargado correctamente\n"
     ]
    }
   ],
   "source": [
    "# Seleccionar un conjunto de datos de algún repositorio público o de alguna fuente propia.\n",
    "import requests\n",
    "url=\"https://raw.githubusercontent.com/crozasc/t2/main/CausesOfDeath_France_2001-2008.csv\"\n",
    "target_csv_path=\"CausesOfDeath_France_2001-2008.csv\"\n",
    "\n",
    "response= requests.get(url)\n",
    "\n",
    "response.raise_for_status()\n",
    "with open(target_csv_path,\"wb\") as f:\n",
    "    f.write(response.content)\n",
    "print(\"CSV descargado correctamente\")"
   ]
  },
  {
   "cell_type": "code",
   "execution_count": 11,
   "metadata": {},
   "outputs": [],
   "source": [
    "# Cargar los datos desde la fuente en su respectivo formato a un dataframe.\n",
    "import pandas as pd\n",
    "\n",
    "# Utilizar los métodos pandas.read_xxx() y pandas.to_xxx() para leer y guardar los datos.\n",
    "df = pd.read_csv(\"CausesOfDeath_France_2001-2008.csv\")"
   ]
  },
  {
   "cell_type": "code",
   "execution_count": null,
   "metadata": {},
   "outputs": [],
   "source": [
    "# Revisar si los datos de entrada tienen o no un encabezado. De no ser así, corregir esta situación.\n"
   ]
  },
  {
   "cell_type": "code",
   "execution_count": null,
   "metadata": {},
   "outputs": [],
   "source": [
    "# Realizar un análisis básico de los datos de entrada con con los métodos .describe() y .info().\n"
   ]
  },
  {
   "cell_type": "code",
   "execution_count": null,
   "metadata": {},
   "outputs": [],
   "source": [
    "# Identificar y manipular valores faltantes.\n",
    "#a) Identificar valores faltantes.\n",
    "#b) Manipular valores faltantes.\n",
    "#c) Corregir el formato de los datos"
   ]
  },
  {
   "cell_type": "code",
   "execution_count": null,
   "metadata": {},
   "outputs": [],
   "source": [
    "# Estandarizar datos de entrada."
   ]
  },
  {
   "cell_type": "code",
   "execution_count": null,
   "metadata": {},
   "outputs": [],
   "source": [
    "# Normalizar datos de entrada."
   ]
  },
  {
   "cell_type": "code",
   "execution_count": null,
   "metadata": {},
   "outputs": [],
   "source": [
    "# Agrupar datos de entrada.\n"
   ]
  },
  {
   "cell_type": "code",
   "execution_count": null,
   "metadata": {},
   "outputs": [],
   "source": [
    "#  Generar variables indicadoras.\n"
   ]
  },
  {
   "cell_type": "code",
   "execution_count": null,
   "metadata": {},
   "outputs": [],
   "source": [
    "# Guardar el conjunto de datos procesado."
   ]
  }
 ],
 "metadata": {
  "interpreter": {
   "hash": "a82a95d3fb457a8d3eb65e3499138e1091708bbc16bc08fe1c2bfa3af8b6eca9"
  },
  "kernelspec": {
   "display_name": "Python 3.10.4 64-bit",
   "language": "python",
   "name": "python3"
  },
  "language_info": {
   "codemirror_mode": {
    "name": "ipython",
    "version": 3
   },
   "file_extension": ".py",
   "mimetype": "text/x-python",
   "name": "python",
   "nbconvert_exporter": "python",
   "pygments_lexer": "ipython3",
   "version": "3.10.4"
  },
  "orig_nbformat": 4
 },
 "nbformat": 4,
 "nbformat_minor": 2
}
