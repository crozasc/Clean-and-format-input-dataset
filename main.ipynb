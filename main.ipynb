{
 "cells": [
  {
   "cell_type": "code",
   "execution_count": 4,
   "metadata": {},
   "outputs": [
    {
     "name": "stdout",
     "output_type": "stream",
     "text": [
      "CSV descargado correctamente\n"
     ]
    }
   ],
   "source": [
    "#Seleccionar un conjunto de datos de algún repositorio público o de alguna fuente propia.\n",
    "import requests\n",
    "url=\"https://raw.githubusercontent.com/crozasc/t2/main/CausesOfDeath_France_2001-2008.csv\"\n",
    "target_csv_path=\"CausesOfDeath_France_2001-2008.csv\"\n",
    "\n",
    "response= requests.get(url)\n",
    "\n",
    "response.raise_for_status()\n",
    "with open(target_csv_path,\"wb\") as f:\n",
    "    f.write(response.content)\n",
    "print(\"CSV descargado correctamente\")"
   ]
  },
  {
   "cell_type": "code",
   "execution_count": 7,
   "metadata": {},
   "outputs": [
    {
     "ename": "ModuleNotFoundError",
     "evalue": "No module named 'pandas'",
     "output_type": "error",
     "traceback": [
      "\u001b[1;31m---------------------------------------------------------------------------\u001b[0m",
      "\u001b[1;31mModuleNotFoundError\u001b[0m                       Traceback (most recent call last)",
      "\u001b[1;32md:\\Codigo\\github\\t2\\main.ipynb Cell 2'\u001b[0m in \u001b[0;36m<cell line: 2>\u001b[1;34m()\u001b[0m\n\u001b[0;32m      <a href='vscode-notebook-cell:/d%3A/Codigo/github/t2/main.ipynb#ch0000001?line=0'>1</a>\u001b[0m \u001b[39m#Cargar los datos desde la fuente en su respectivo formato a un dataframe.\u001b[39;00m\n\u001b[1;32m----> <a href='vscode-notebook-cell:/d%3A/Codigo/github/t2/main.ipynb#ch0000001?line=1'>2</a>\u001b[0m \u001b[39mimport\u001b[39;00m \u001b[39mpandas\u001b[39;00m \u001b[39mas\u001b[39;00m \u001b[39mpd\u001b[39;00m\n\u001b[0;32m      <a href='vscode-notebook-cell:/d%3A/Codigo/github/t2/main.ipynb#ch0000001?line=3'>4</a>\u001b[0m cdf \u001b[39m=\u001b[39m pd\u001b[39m.\u001b[39mread_csv(\u001b[39m\"\u001b[39m\u001b[39mCausesOfDeath_France_2001-2008.csv\u001b[39m\u001b[39m\"\u001b[39m)\n\u001b[0;32m      <a href='vscode-notebook-cell:/d%3A/Codigo/github/t2/main.ipynb#ch0000001?line=5'>6</a>\u001b[0m \u001b[39mtype\u001b[39m(cdf)\n",
      "\u001b[1;31mModuleNotFoundError\u001b[0m: No module named 'pandas'"
     ]
    }
   ],
   "source": [
    "#Cargar los datos desde la fuente en su respectivo formato a un dataframe.\n",
    "import pandas as pd\n",
    "\n",
    "cdf = pd.read_csv(\"CausesOfDeath_France_2001-2008.csv\")\n",
    "\n",
    "type(cdf)"
   ]
  }
 ],
 "metadata": {
  "interpreter": {
   "hash": "a82a95d3fb457a8d3eb65e3499138e1091708bbc16bc08fe1c2bfa3af8b6eca9"
  },
  "kernelspec": {
   "display_name": "Python 3.10.4 64-bit",
   "language": "python",
   "name": "python3"
  },
  "language_info": {
   "codemirror_mode": {
    "name": "ipython",
    "version": 3
   },
   "file_extension": ".py",
   "mimetype": "text/x-python",
   "name": "python",
   "nbconvert_exporter": "python",
   "pygments_lexer": "ipython3",
   "version": "3.10.4"
  },
  "orig_nbformat": 4
 },
 "nbformat": 4,
 "nbformat_minor": 2
}
