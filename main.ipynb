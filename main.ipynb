{
 "cells": [
  {
   "cell_type": "code",
   "execution_count": 4,
   "metadata": {},
   "outputs": [
    {
     "name": "stdout",
     "output_type": "stream",
     "text": [
      "CSV descargado correctamente\n"
     ]
    }
   ],
   "source": [
    "# Seleccionar un conjunto de datos de algún repositorio público o de alguna fuente propia.\n",
    "import requests\n",
    "url=\"https://raw.githubusercontent.com/crozasc/t2/main/CausesOfDeath_France_2001-2008.csv\"\n",
    "target_csv_path=\"CausesOfDeath_France_2001-2008.csv\"\n",
    "\n",
    "response= requests.get(url)\n",
    "\n",
    "response.raise_for_status()\n",
    "with open(target_csv_path,\"wb\") as f:\n",
    "    f.write(response.content)\n",
    "print(\"CSV descargado correctamente\")"
   ]
  },
  {
   "cell_type": "code",
   "execution_count": 40,
   "metadata": {},
   "outputs": [],
   "source": [
    "# Cargar los datos desde la fuente en su respectivo formato a un dataframe.\n",
    "import pandas as pd\n",
    "\n",
    "# Utilizar los métodos pandas.read_xxx() y pandas.to_xxx() para leer y guardar los datos.\n",
    "df = pd.read_csv(\"CausesOfDeath_France_2001-2008.csv\")"
   ]
  },
  {
   "cell_type": "code",
   "execution_count": 41,
   "metadata": {},
   "outputs": [
    {
     "ename": "TypeError",
     "evalue": "'method' object is not subscriptable",
     "output_type": "error",
     "traceback": [
      "\u001b[1;31m---------------------------------------------------------------------------\u001b[0m",
      "\u001b[1;31mTypeError\u001b[0m                                 Traceback (most recent call last)",
      "\u001b[1;32md:\\Codigo\\github\\t2\\main.ipynb Cell 3'\u001b[0m in \u001b[0;36m<cell line: 3>\u001b[1;34m()\u001b[0m\n\u001b[0;32m      <a href='vscode-notebook-cell:/d%3A/Codigo/github/t2/main.ipynb#ch0000003?line=0'>1</a>\u001b[0m \u001b[39m# Revisar si los datos de entrada tienen o no un encabezado. De no ser así, corregir esta situación.\u001b[39;00m\n\u001b[0;32m      <a href='vscode-notebook-cell:/d%3A/Codigo/github/t2/main.ipynb#ch0000003?line=1'>2</a>\u001b[0m header \u001b[39m=\u001b[39m [\u001b[39m\"\u001b[39m\u001b[39mTIME\u001b[39m\u001b[39m\"\u001b[39m,\u001b[39m\"\u001b[39m\u001b[39mGEO\u001b[39m\u001b[39m\"\u001b[39m,\u001b[39m\"\u001b[39m\u001b[39mUNIT\u001b[39m\u001b[39m\"\u001b[39m,\u001b[39m\"\u001b[39m\u001b[39mSEX\u001b[39m\u001b[39m\"\u001b[39m,\u001b[39m\"\u001b[39m\u001b[39mAGE\u001b[39m\u001b[39m\"\u001b[39m,\u001b[39m\"\u001b[39m\u001b[39mICD10\u001b[39m\u001b[39m\"\u001b[39m,\u001b[39m\"\u001b[39m\u001b[39mValue\u001b[39m\u001b[39m\"\u001b[39m,\u001b[39m\"\u001b[39m\u001b[39mFlag and Footnotes\u001b[39m\u001b[39m\"\u001b[39m]\n\u001b[1;32m----> <a href='vscode-notebook-cell:/d%3A/Codigo/github/t2/main.ipynb#ch0000003?line=2'>3</a>\u001b[0m df\u001b[39m.\u001b[39;49mhead[\u001b[39m0\u001b[39;49m]\n",
      "\u001b[1;31mTypeError\u001b[0m: 'method' object is not subscriptable"
     ]
    }
   ],
   "source": [
    "# Revisar si los datos de entrada tienen o no un encabezado. De no ser así, corregir esta situación.\n",
    "header = [\"TIME\",\"GEO\",\"UNIT\",\"SEX\",\"AGE\",\"ICD10\",\"Value\",\"Flag and Footnotes\"]\n",
    "df.head[0]"
   ]
  },
  {
   "cell_type": "code",
   "execution_count": null,
   "metadata": {},
   "outputs": [],
   "source": [
    "# Realizar un análisis básico de los datos de entrada con con los métodos .describe() y .info().\n"
   ]
  },
  {
   "cell_type": "code",
   "execution_count": null,
   "metadata": {},
   "outputs": [],
   "source": [
    "# Identificar y manipular valores faltantes.\n",
    "#a) Identificar valores faltantes.\n",
    "#b) Manipular valores faltantes.\n",
    "#c) Corregir el formato de los datos"
   ]
  },
  {
   "cell_type": "code",
   "execution_count": null,
   "metadata": {},
   "outputs": [],
   "source": [
    "# Estandarizar datos de entrada."
   ]
  },
  {
   "cell_type": "code",
   "execution_count": null,
   "metadata": {},
   "outputs": [],
   "source": [
    "# Normalizar datos de entrada."
   ]
  },
  {
   "cell_type": "code",
   "execution_count": null,
   "metadata": {},
   "outputs": [],
   "source": [
    "# Agrupar datos de entrada.\n"
   ]
  },
  {
   "cell_type": "code",
   "execution_count": null,
   "metadata": {},
   "outputs": [],
   "source": [
    "#  Generar variables indicadoras.\n"
   ]
  },
  {
   "cell_type": "code",
   "execution_count": null,
   "metadata": {},
   "outputs": [],
   "source": [
    "# Guardar el conjunto de datos procesado."
   ]
  }
 ],
 "metadata": {
  "interpreter": {
   "hash": "a82a95d3fb457a8d3eb65e3499138e1091708bbc16bc08fe1c2bfa3af8b6eca9"
  },
  "kernelspec": {
   "display_name": "Python 3.10.4 64-bit",
   "language": "python",
   "name": "python3"
  },
  "language_info": {
   "codemirror_mode": {
    "name": "ipython",
    "version": 3
   },
   "file_extension": ".py",
   "mimetype": "text/x-python",
   "name": "python",
   "nbconvert_exporter": "python",
   "pygments_lexer": "ipython3",
   "version": "3.10.4"
  },
  "orig_nbformat": 4
 },
 "nbformat": 4,
 "nbformat_minor": 2
}
